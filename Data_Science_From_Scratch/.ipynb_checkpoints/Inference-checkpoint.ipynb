{
 "cells": [
  {
   "cell_type": "code",
   "execution_count": 6,
   "metadata": {},
   "outputs": [],
   "source": [
    "from typing import Tuple\n",
    "import math\n",
    "\n",
    "def normal_approximation_to_binomial(n: int, p: float) -> Tuple[float, float]:\n",
    "    \"\"\"Returns mu and sigma corresponding to a Binomial(n, p)\"\"\"\n",
    "    mu = p * n\n",
    "    sigma = math.sqrt(p * (1 - p) * n)\n",
    "    return mu, sigma"
   ]
  },
  {
   "cell_type": "code",
   "execution_count": 12,
   "metadata": {},
   "outputs": [],
   "source": [
    "from probability import normal_cdf\n",
    "\n",
    "# The normal cdf _is_ the probability the variable is below a threshold\n",
    "normal_probability_below = normal_cdf"
   ]
  },
  {
   "cell_type": "code",
   "execution_count": 9,
   "metadata": {},
   "outputs": [],
   "source": [
    "def normal_probability_above(lo: float,\n",
    "                             mu: float = 0,\n",
    "                             sigma: float = 1) -> float:\n",
    "    \"\"\"The probability that a N(mu, sigma) is greater than lo.\"\"\"\n",
    "    return 1 - normal_cdf(lo, mu, sigma)"
   ]
  },
  {
   "cell_type": "code",
   "execution_count": 4,
   "metadata": {},
   "outputs": [],
   "source": [
    "def normal_probability_between(lo: float,\n",
    "                               hi: float,\n",
    "                               mu: float = 0,\n",
    "                               sigma: float = 1) -> float:\n",
    "    \"\"\"The probability that a N(mu, sigma) is between lo and hi.\"\"\"\n",
    "    return normal_cdf(hi, mu, sigma) - normal_cdf(lo, mu, sigma)\n"
   ]
  },
  {
   "cell_type": "code",
   "execution_count": 5,
   "metadata": {},
   "outputs": [],
   "source": [
    "def normal_probability_outside(lo: float,\n",
    "                               hi: float,\n",
    "                               mu: float = 0,\n",
    "                               sigma: float = 1) -> float:\n",
    "    \"\"\"The probability that a N(mu, sigma) is not between lo and hi.\"\"\"\n",
    "    return 1 - normal_probability_between(lo, hi, mu, sigma)"
   ]
  },
  {
   "cell_type": "code",
   "execution_count": 6,
   "metadata": {},
   "outputs": [],
   "source": [
    "from probability import inverse_normal_cdf\n",
    "\n",
    "def normal_upper_bound(probability: float,\n",
    "                       mu: float = 0,\n",
    "                       sigma: float = 1) -> float:\n",
    "    \"\"\"Returns the z for which P(Z <= z) = probability\"\"\"\n",
    "    return inverse_normal_cdf(probability, mu, sigma)"
   ]
  },
  {
   "cell_type": "code",
   "execution_count": 7,
   "metadata": {},
   "outputs": [],
   "source": [
    "def normal_lower_bound(probability: float,\n",
    "                       mu: float = 0,\n",
    "                       sigma: float = 1) -> float:\n",
    "    \"\"\"Returns the z for which P(Z >= z) = probability\"\"\"\n",
    "    return inverse_normal_cdf(1 - probability, mu, sigma)"
   ]
  },
  {
   "cell_type": "code",
   "execution_count": 8,
   "metadata": {},
   "outputs": [],
   "source": [
    "def normal_two_sided_bounds(probability: float,\n",
    "                            mu: float = 0,\n",
    "                            sigma: float = 1) -> Tuple[float, float]:\n",
    "    \"\"\"\n",
    "    Returns the symmetric (about the mean) bounds\n",
    "    that contain the specified probability\n",
    "    \"\"\"\n",
    "    tail_probability = (1 - probability) / 2\n",
    "\n",
    "    # upper bound should have tail_probability above it\n",
    "    upper_bound = normal_lower_bound(tail_probability, mu, sigma)\n",
    "\n",
    "    # lower bound should have tail_probability below it\n",
    "    lower_bound = normal_upper_bound(tail_probability, mu, sigma)\n",
    "\n",
    "    return lower_bound, upper_bound"
   ]
  },
  {
   "cell_type": "code",
   "execution_count": 10,
   "metadata": {},
   "outputs": [],
   "source": [
    "mu_0, sigma_0 = normal_approximation_to_binomial(1000, 0.5)\n",
    "\n",
    "\n",
    "assert mu_0 == 500\n",
    "assert 15.8 < sigma_0 < 15.9"
   ]
  },
  {
   "cell_type": "code",
   "execution_count": 18,
   "metadata": {},
   "outputs": [],
   "source": [
    "# (469, 531)\n",
    "lower_bound, upper_bound = normal_two_sided_bounds(0.95, mu_0, sigma_0)\n",
    "\n",
    "\n",
    "assert 468.5 < lower_bound < 469.5\n",
    "assert 530.5 < upper_bound < 531.5\n",
    "\n",
    "lo, hi = normal_two_sided_bounds(0.95, mu_0, sigma_0)"
   ]
  },
  {
   "cell_type": "code",
   "execution_count": 19,
   "metadata": {},
   "outputs": [
    {
     "name": "stdout",
     "output_type": "stream",
     "text": [
      "0.8865480012953671\n"
     ]
    }
   ],
   "source": [
    "# actual mu and sigma based on p = 0.55\n",
    "mu_1, sigma_1 = normal_approximation_to_binomial(1000, 0.55)\n",
    "\n",
    "# a type 2 error means we fail to reject the null hypothesis\n",
    "# which will happen when X is still in our original interval\n",
    "type_2_probability = normal_probability_between(lo, hi, mu_1, sigma_1)\n",
    "power = 1 - type_2_probability      # 0.887\n",
    "\n",
    "\n",
    "#assert 0.886 < power < 0.888\n",
    "print(power)"
   ]
  },
  {
   "cell_type": "code",
   "execution_count": 21,
   "metadata": {},
   "outputs": [
    {
     "name": "stdout",
     "output_type": "stream",
     "text": [
      "526.0073585242053\n"
     ]
    }
   ],
   "source": [
    "hi = normal_upper_bound(0.95, mu_0, sigma_0)\n",
    "print(hi)"
   ]
  },
  {
   "cell_type": "code",
   "execution_count": 22,
   "metadata": {},
   "outputs": [
    {
     "name": "stdout",
     "output_type": "stream",
     "text": [
      "0.06362051966928267\n"
     ]
    }
   ],
   "source": [
    "type_2_probability = normal_probability_below(hi, mu_1, sigma_1)\n",
    "print(type_2_probability)"
   ]
  },
  {
   "cell_type": "code",
   "execution_count": 16,
   "metadata": {},
   "outputs": [
    {
     "data": {
      "text/plain": [
       "0.05777957112359733"
      ]
     },
     "execution_count": 16,
     "metadata": {},
     "output_type": "execute_result"
    }
   ],
   "source": [
    "def two_sided_p_value(x: float, mu: float = 0, sigma: float = 1) -> float:\n",
    "    \"\"\"\n",
    "    How likely are we to see a value at least as extreme as x (in either\n",
    "    direction) if our values are from a N(mu, sigma)?\n",
    "    \"\"\"\n",
    "    if x >= mu:\n",
    "        # x is greater than the mean, so the tail is everything greater than x\n",
    "        return 2 * normal_probability_above(x, mu, sigma)\n",
    "    else:\n",
    "        # x is less than the mean, so the tail is everything less than x\n",
    "        return 2 * normal_probability_below(x, mu, sigma)\n",
    "\n",
    "two_sided_p_value(530, mu_0, sigma_0)   # 0.062"
   ]
  },
  {
   "cell_type": "code",
   "execution_count": 1,
   "metadata": {},
   "outputs": [
    {
     "name": "stdout",
     "output_type": "stream",
     "text": [
      "74\n"
     ]
    }
   ],
   "source": [
    "import random\n",
    "\n",
    "extreme_value_count = 0\n",
    "for _ in range(1000):\n",
    "    num_heads = sum(1 if random.random() < 0.5 else 0    # Count # of heads\n",
    "                    for _ in range(1000))                # in 1000 flips,\n",
    "    if num_heads >= 530 or num_heads <= 470:             # and count how often\n",
    "        extreme_value_count += 1                         # the # is 'extreme'\n",
    "print(extreme_value_count)"
   ]
  },
  {
   "cell_type": "code",
   "execution_count": 19,
   "metadata": {},
   "outputs": [],
   "source": [
    "from typing import List\n",
    "\n",
    "def run_experiment() -> List[bool]:\n",
    "    \"\"\"Flips a fair coin 1000 times, True = heads, False = tails\"\"\"\n",
    "    return [random.random() < 0.5 for _ in range(1000)]\n",
    "\n",
    "def reject_fairness(experiment: List[bool]) -> bool:\n",
    "    \"\"\"Using the 5% significance levels\"\"\"\n",
    "    num_heads = len([flip for flip in experiment if flip])\n",
    "    return num_heads < 469 or num_heads > 529\n",
    "\n",
    "random.seed(0)\n",
    "experiments = [run_experiment() for _ in range(1000)]\n",
    "num_rejections = len([experiment\n",
    "                      for experiment in experiments\n",
    "                      if reject_fairness(experiment)])"
   ]
  },
  {
   "cell_type": "code",
   "execution_count": 20,
   "metadata": {
    "scrolled": false
   },
   "outputs": [
    {
     "name": "stdout",
     "output_type": "stream",
     "text": [
      "54\n"
     ]
    }
   ],
   "source": [
    "print(num_rejections)"
   ]
  },
  {
   "cell_type": "code",
   "execution_count": null,
   "metadata": {},
   "outputs": [],
   "source": []
  }
 ],
 "metadata": {
  "kernelspec": {
   "display_name": "Python 3",
   "language": "python",
   "name": "python3"
  },
  "language_info": {
   "codemirror_mode": {
    "name": "ipython",
    "version": 3
   },
   "file_extension": ".py",
   "mimetype": "text/x-python",
   "name": "python",
   "nbconvert_exporter": "python",
   "pygments_lexer": "ipython3",
   "version": "3.8.5"
  }
 },
 "nbformat": 4,
 "nbformat_minor": 4
}
